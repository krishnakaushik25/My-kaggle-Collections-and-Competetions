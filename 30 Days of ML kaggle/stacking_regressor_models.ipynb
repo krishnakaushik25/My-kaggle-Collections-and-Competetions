{
  "nbformat": 4,
  "nbformat_minor": 5,
  "metadata": {
    "kernelspec": {
      "display_name": "Python 3",
      "language": "python",
      "name": "python3"
    },
    "language_info": {
      "codemirror_mode": {
        "name": "ipython",
        "version": 3
      },
      "file_extension": ".py",
      "mimetype": "text/x-python",
      "name": "python",
      "nbconvert_exporter": "python",
      "pygments_lexer": "ipython3",
      "version": "3.7.10"
    },
    "papermill": {
      "default_parameters": {},
      "duration": 8007.419757,
      "end_time": "2021-09-01T00:18:04.693956",
      "environment_variables": {},
      "exception": null,
      "input_path": "__notebook__.ipynb",
      "output_path": "__notebook__.ipynb",
      "parameters": {},
      "start_time": "2021-08-31T22:04:37.274199",
      "version": "2.3.3"
    },
    "colab": {
      "name": "stacking-regressor-models.ipynb",
      "provenance": []
    }
  },
  "cells": [
    {
      "cell_type": "code",
      "metadata": {
        "_cell_guid": "b1076dfc-b9ad-4769-8c92-a6c4dae69d19",
        "_uuid": "8f2839f25d086af736a60e9eeb907d3b93b6e0e5",
        "execution": {
          "iopub.execute_input": "2021-08-31T22:04:46.156116Z",
          "iopub.status.busy": "2021-08-31T22:04:46.155447Z",
          "iopub.status.idle": "2021-08-31T22:04:51.388965Z",
          "shell.execute_reply": "2021-08-31T22:04:51.387761Z",
          "shell.execute_reply.started": "2021-08-31T21:46:17.599424Z"
        },
        "papermill": {
          "duration": 5.259147,
          "end_time": "2021-08-31T22:04:51.389157",
          "exception": false,
          "start_time": "2021-08-31T22:04:46.130010",
          "status": "completed"
        },
        "tags": [],
        "id": "f92caa78",
        "outputId": "a9150933-2494-419d-bb3e-80c4cc68451c"
      },
      "source": [
        "import optuna\n",
        "import pandas as pd\n",
        "import numpy as np\n",
        "from sklearn.model_selection import KFold, StratifiedKFold, train_test_split\n",
        "from sklearn.ensemble import RandomForestRegressor\n",
        "from sklearn.linear_model import Ridge, BayesianRidge, SGDRegressor, RidgeCV\n",
        "from sklearn.svm import SVR\n",
        "from category_encoders import LeaveOneOutEncoder\n",
        "from sklearn.preprocessing import OrdinalEncoder, LabelEncoder, OneHotEncoder\n",
        "from xgboost import XGBRegressor\n",
        "from lightgbm import LGBMRegressor\n",
        "from catboost import CatBoostRegressor\n",
        "from sklearn.experimental import enable_hist_gradient_boosting\n",
        "from sklearn.ensemble import HistGradientBoostingRegressor, GradientBoostingRegressor\n",
        "from sklearn.calibration import CalibratedClassifierCV\n",
        "from sklearn.decomposition import PCA\n",
        "from sklearn.mixture import GaussianMixture\n",
        "import torch\n",
        "import gc\n",
        "import matplotlib.pyplot as plt\n",
        "import seaborn as sns"
      ],
      "id": "f92caa78",
      "execution_count": null,
      "outputs": [
        {
          "data": {
            "text/html": [
              "<style type='text/css'>\n",
              ".datatable table.frame { margin-bottom: 0; }\n",
              ".datatable table.frame thead { border-bottom: none; }\n",
              ".datatable table.frame tr.coltypes td {  color: #FFFFFF;  line-height: 6px;  padding: 0 0.5em;}\n",
              ".datatable .bool    { background: #DDDD99; }\n",
              ".datatable .object  { background: #565656; }\n",
              ".datatable .int     { background: #5D9E5D; }\n",
              ".datatable .float   { background: #4040CC; }\n",
              ".datatable .str     { background: #CC4040; }\n",
              ".datatable .time    { background: #40CC40; }\n",
              ".datatable .row_index {  background: var(--jp-border-color3);  border-right: 1px solid var(--jp-border-color0);  color: var(--jp-ui-font-color3);  font-size: 9px;}\n",
              ".datatable .frame tbody td { text-align: left; }\n",
              ".datatable .frame tr.coltypes .row_index {  background: var(--jp-border-color0);}\n",
              ".datatable th:nth-child(2) { padding-left: 12px; }\n",
              ".datatable .hellipsis {  color: var(--jp-cell-editor-border-color);}\n",
              ".datatable .vellipsis {  background: var(--jp-layout-color0);  color: var(--jp-cell-editor-border-color);}\n",
              ".datatable .na {  color: var(--jp-cell-editor-border-color);  font-size: 80%;}\n",
              ".datatable .sp {  opacity: 0.25;}\n",
              ".datatable .footer { font-size: 9px; }\n",
              ".datatable .frame_dimensions {  background: var(--jp-border-color3);  border-top: 1px solid var(--jp-border-color0);  color: var(--jp-ui-font-color3);  display: inline-block;  opacity: 0.6;  padding: 1px 10px 1px 5px;}\n",
              "</style>\n"
            ],
            "text/plain": [
              "<IPython.core.display.HTML object>"
            ]
          },
          "metadata": {},
          "output_type": "display_data"
        }
      ]
    },
    {
      "cell_type": "code",
      "metadata": {
        "execution": {
          "iopub.execute_input": "2021-08-31T22:04:51.418557Z",
          "iopub.status.busy": "2021-08-31T22:04:51.417894Z",
          "iopub.status.idle": "2021-08-31T22:04:56.106228Z",
          "shell.execute_reply": "2021-08-31T22:04:56.105636Z",
          "shell.execute_reply.started": "2021-08-31T21:46:22.739326Z"
        },
        "papermill": {
          "duration": 4.704276,
          "end_time": "2021-08-31T22:04:56.106377",
          "exception": false,
          "start_time": "2021-08-31T22:04:51.402101",
          "status": "completed"
        },
        "tags": [],
        "id": "6afabe0c"
      },
      "source": [
        "train_df = pd.read_csv(\"../input/30-days-of-ml/train.csv\")\n",
        "test_df = pd.read_csv(\"../input/30-days-of-ml/test.csv\")\n",
        "submission_df = pd.read_csv(\"../input/30-days-of-ml/sample_submission.csv\")"
      ],
      "id": "6afabe0c",
      "execution_count": null,
      "outputs": []
    },
    {
      "cell_type": "code",
      "metadata": {
        "execution": {
          "iopub.execute_input": "2021-08-31T22:04:56.139326Z",
          "iopub.status.busy": "2021-08-31T22:04:56.138653Z",
          "iopub.status.idle": "2021-08-31T22:04:56.143409Z",
          "shell.execute_reply": "2021-08-31T22:04:56.142886Z",
          "shell.execute_reply.started": "2021-08-31T21:46:26.901244Z"
        },
        "papermill": {
          "duration": 0.026123,
          "end_time": "2021-08-31T22:04:56.143553",
          "exception": false,
          "start_time": "2021-08-31T22:04:56.117430",
          "status": "completed"
        },
        "tags": [],
        "id": "e63f8530"
      },
      "source": [
        "cat_features = [feature for feature in train_df.columns if (\"cat\" in feature)]\n",
        "cont_features = [feature for feature in train_df.columns if (\"cont\" in feature)]\n",
        "target = train_df[\"target\"]"
      ],
      "id": "e63f8530",
      "execution_count": null,
      "outputs": []
    },
    {
      "cell_type": "code",
      "metadata": {
        "execution": {
          "iopub.execute_input": "2021-08-31T22:04:56.198391Z",
          "iopub.status.busy": "2021-08-31T22:04:56.197676Z",
          "iopub.status.idle": "2021-08-31T22:05:01.106235Z",
          "shell.execute_reply": "2021-08-31T22:05:01.105632Z",
          "shell.execute_reply.started": "2021-08-31T21:46:26.917966Z"
        },
        "papermill": {
          "duration": 4.951781,
          "end_time": "2021-08-31T22:05:01.106387",
          "exception": false,
          "start_time": "2021-08-31T22:04:56.154606",
          "status": "completed"
        },
        "tags": [],
        "id": "ca29976b"
      },
      "source": [
        "def competition_metric(y_true, y_pred):\n",
        "    return np.sqrt(np.mean((y_true - y_pred)**2))\n",
        "\n",
        "le_features = []\n",
        "loo_features = []\n",
        "oh_features = []\n",
        "\n",
        "def label_encoding(feature):\n",
        "    le = LabelEncoder()\n",
        "    le.fit(train_df[feature].unique().tolist() + test_df[feature].unique().tolist())\n",
        "    train_df[f\"{feature}_le\"] = le.transform(train_df[feature])\n",
        "    test_df[f\"{feature}_le\"] = le.transform(test_df[feature])\n",
        "    return f\"{feature}_le\"\n",
        "\n",
        "def loo_encoding(feature):\n",
        "    loo = LeaveOneOutEncoder()\n",
        "    loo.fit(train_df[feature], train_df[\"target\"])\n",
        "    train_df[f\"{feature}_loo\"] = loo.transform(train_df[feature])\n",
        "    test_df[f\"{feature}_loo\"] = loo.transform(test_df[feature])\n",
        "    return f\"{feature}_loo\"\n",
        "\n",
        "def oh_encoding(feature):\n",
        "    oh = OneHotEncoder(sparse=False)\n",
        "    oh.fit(train_df[feature].unique().tolist() + test_df[feature].unique().tolist())\n",
        "    new_features = [f\"{feature}_{item}\" for item in oh.categories_[0]]\n",
        "    train_df[new_features] = oh.transform(train_df[feature])\n",
        "    test_df[new_features] = oh.transform(test_df[feature])\n",
        "    return new_features\n",
        "    \n",
        "for feature in cat_features:\n",
        "    le_features.append(label_encoding(feature))\n",
        "    loo_features.append(loo_encoding(feature))\n",
        "    # oh_features.extend(oh_encoding(feature))\n",
        "    \n",
        "xgb_cat_features = []\n",
        "lgb_cat_features = []\n",
        "cb_cat_features = []\n",
        "hgbr_cat_features = []\n",
        "ridge_cat_features = []\n",
        "sgd_cat_features = []\n",
        "rf_cat_features = []\n",
        "bayesian_cat_features = []\n",
        "svr_cat_features = []\n",
        "rf_cat_features.extend(le_features)\n",
        "xgb_cat_features.extend(le_features)\n",
        "lgb_cat_features.extend(loo_features)\n",
        "cb_cat_features.extend(le_features)\n",
        "hgbr_cat_features.extend(loo_features)\n",
        "ridge_cat_features.extend(loo_features)\n",
        "sgd_cat_features.extend(loo_features)\n",
        "bayesian_cat_features.extend(loo_features)\n",
        "svr_cat_features.extend(loo_features)"
      ],
      "id": "ca29976b",
      "execution_count": null,
      "outputs": []
    },
    {
      "cell_type": "code",
      "metadata": {
        "execution": {
          "iopub.execute_input": "2021-08-31T22:05:01.135663Z",
          "iopub.status.busy": "2021-08-31T22:05:01.134960Z",
          "iopub.status.idle": "2021-08-31T22:05:02.627228Z",
          "shell.execute_reply": "2021-08-31T22:05:02.626519Z",
          "shell.execute_reply.started": "2021-08-31T21:46:31.779908Z"
        },
        "papermill": {
          "duration": 1.508775,
          "end_time": "2021-08-31T22:05:02.627369",
          "exception": false,
          "start_time": "2021-08-31T22:05:01.118594",
          "status": "completed"
        },
        "tags": [],
        "id": "6d3acc14",
        "outputId": "0407f890-a06d-48fa-9d05-93118642de21"
      },
      "source": [
        "l1_train = pd.read_csv(\"../input/oof-and-test-preds-of-base-models-for-30-days-ml/l1_train.csv\")\n",
        "l1_test = pd.read_csv(\"../input/oof-and-test-preds-of-base-models-for-30-days-ml/l1_test.csv\")\n",
        "target = train_df[\"target\"].values\n",
        "for column in l1_train.columns:\n",
        "    print(f\"{column} RMSE: \", competition_metric(target, l1_train[column]))"
      ],
      "id": "6d3acc14",
      "execution_count": null,
      "outputs": [
        {
          "name": "stdout",
          "output_type": "stream",
          "text": [
            "xgb RMSE:  0.7159227073378349\n",
            "xgb2 RMSE:  0.7159365228018582\n",
            "lgb RMSE:  0.7168988110822859\n",
            "cb RMSE:  0.7176344946606455\n",
            "hgbr RMSE:  0.7195858565311585\n",
            "ridge RMSE:  0.7222613494882295\n"
          ]
        }
      ]
    },
    {
      "cell_type": "code",
      "metadata": {
        "_kg_hide-input": false,
        "execution": {
          "iopub.execute_input": "2021-08-31T22:05:02.678129Z",
          "iopub.status.busy": "2021-08-31T22:05:02.677233Z",
          "iopub.status.idle": "2021-08-31T22:05:02.681082Z",
          "shell.execute_reply": "2021-08-31T22:05:02.680559Z",
          "shell.execute_reply.started": "2021-08-31T21:46:32.934975Z"
        },
        "papermill": {
          "duration": 0.041887,
          "end_time": "2021-08-31T22:05:02.681228",
          "exception": false,
          "start_time": "2021-08-31T22:05:02.639341",
          "status": "completed"
        },
        "tags": [],
        "id": "d9c882c6"
      },
      "source": [
        "stacking_dict = {\n",
        "    \"level_1\": {\n",
        "        \"seeds\": [42],\n",
        "        \"n_folds\": 10,\n",
        "        \"models\": {\n",
        "            \"ridge\": {\"features\": [\"xgb\", \"xgb2\", \"lgb\", \"cb\", \"hgbr\", \"ridge\"], \"has_eval\": False, \"fit_params\": {}, \"class\": Ridge, \"init_params\": {}},\n",
        "            \"xgb\": {\"features\": [\"xgb\", \"xgb2\", \"lgb\", \"cb\", \"hgbr\", \"ridge\"], \"has_eval\": True, \"fit_params\": {\"early_stopping_rounds\": 300, \"verbose\": 0}, \"class\": XGBRegressor, \"init_params\": {\n",
        "                                                                                                                                                                                                    'n_jobs': 4,\n",
        "                                                                                                                                                                                                    'booster': 'gbtree',\n",
        "                                                                                                                                                                                                    'n_estimators': 7000,\n",
        "                                                                                                                                                                                                    'learning_rate': 0.030446409758071415,\n",
        "                                                                                                                                                                                                    'reg_lambda': 2.712520306440014,\n",
        "                                                                                                                                                                                                    'reg_alpha': 0.0007870899477561048,\n",
        "                                                                                                                                                                                                    'subsample': 0.3336667858453184,\n",
        "                                                                                                                                                                                                    'colsample_bytree': 0.9214478236363662,\n",
        "                                                                                                                                                                                                    'max_depth': 1\n",
        "                                                                                                                                                                                                }},\n",
        "            \"lgb\": {\"features\": [\"xgb\", \"xgb2\", \"lgb\", \"cb\", \"hgbr\", \"ridge\"], \"has_eval\": True, \"fit_params\": {\"eval_metric\":'rmse', \"early_stopping_rounds\":500,\"verbose\":False}, \"class\": LGBMRegressor, \"init_params\": {\n",
        "                                                                                                                                                                                                                            \"metric\": \"rmse\",\n",
        "                                                                                                                                                                                                                            \"n_jobs\": 6,\n",
        "                                                                                                                                                                                                                            'reg_lambda': 8.74046749454152e-08,\n",
        "                                                                                                                                                                                                                            'reg_alpha': 6.105482055823789e-08,\n",
        "                                                                                                                                                                                                                            'colsample_bytree': 0.9,\n",
        "                                                                                                                                                                                                                            \"learning_rate\": 0.035053004475190795,\n",
        "                                                                                                                                                                                                                            \"max_depth\": 69,\n",
        "                                                                                                                                                                                                                            \"num_leaves\": 13,\n",
        "                                                                                                                                                                                                                            'min_child_samples': 129,\n",
        "                                                                                                                                                                                                                            \"n_estimators\":1600000,\n",
        "                                                                                                                                                                                                                            \"cat_smooth\": 55,\n",
        "                                                                                                                                                                                                                            # \"max_bin\": 512,\n",
        "                                                                                                                                                                                                                            \"min_data_per_group\": 117,\n",
        "                                                                                                                                                                                                                            \"bagging_freq\": 1,\n",
        "                                                                                                                                                                                                                            \"bagging_fraction\": 0.6709049555262285,\n",
        "                                                                                                                                                                                                                            \"cat_l2\": 45.53922844566267\n",
        "                                                                                                                                                                                                                        }},\n",
        "            \"cb\": {\"features\": [\"xgb\", \"xgb2\", \"lgb\", \"cb\", \"hgbr\", \"ridge\"], \"has_eval\": True, \"fit_params\": {\"early_stopping_rounds\": 1000, \"verbose\": False, \"use_best_model\": True}, \"class\": CatBoostRegressor, \"init_params\": {\n",
        "                                                                                                                                                                                                                                        \"iterations\": 11900,\n",
        "                                                                                                                                                                                                                                        \"learning_rate\": 0.06805013956644747,\n",
        "                                                                                                                                                                                                                                        \"loss_function\": \"RMSE\",\n",
        "                                                                                                                                                                                                                                        \"eval_metric\": \"RMSE\",\n",
        "                                                                                                                                                                                                                                        \"verbose\": 0,\n",
        "                                                                                                                                                                                                                                        \"depth\": 7,\n",
        "                                                                                                                                                                                                                                        \"thread_count\": 4,\n",
        "                                                                                                                                                                                                                                        \"l2_leaf_reg\": 4.934224184899785,\n",
        "                                                                                                                                                                                                                                    }},\n",
        "            \"hgbr\": {\"features\": [\"xgb\", \"xgb2\", \"lgb\", \"cb\", \"hgbr\", \"ridge\"], \"has_eval\": False, \"fit_params\": {}, \"class\": HistGradientBoostingRegressor, \"init_params\": {\n",
        "                                                                                                                                                                                \"learning_rate\": 0.18975641592886155,\n",
        "                                                                                                                                                                                \"max_iter\": 13000,\n",
        "                                                                                                                                                                                \"max_leaf_nodes\": 60,\n",
        "                                                                                                                                                                                \"max_depth\": 3,\n",
        "                                                                                                                                                                                \"l2_regularization\": 7.393785635976974,\n",
        "                                                                                                                                                                            }},\n",
        "            \"rf\": {\"features\": [\"xgb\", \"xgb2\", \"lgb\", \"cb\", \"hgbr\", \"ridge\"], \"has_eval\": False, \"fit_params\": {}, \"class\": RandomForestRegressor, \"init_params\": {\n",
        "                                                                                                                                                            \"n_estimators\": 500, \"n_jobs\": -1, \"max_depth\": 3\n",
        "                                                                                                                                                    }},\n",
        "            \"gbr\": {\"features\": [\"xgb\", \"xgb2\", \"lgb\", \"cb\", \"hgbr\", \"ridge\"], \"has_eval\": False, \"fit_params\": {}, \"class\": GradientBoostingRegressor, \"init_params\": {\n",
        "                                                                                                                                                            \"n_estimators\": 500, \"max_depth\": 3\n",
        "                                                                                                                                                    }}\n",
        "        }\n",
        "    },\n",
        "    \"level_2\": {\n",
        "        \"seeds\": [42],\n",
        "        \"n_folds\": 10,\n",
        "        \"models\": {\n",
        "            \"xgb\": {\"features\": [\"cb\", \"xgb\", \"ridge\", \"lgb\", \"gbr\", \"rf\"], \"has_eval\": True, \"fit_params\": {\"early_stopping_rounds\": 300, \"verbose\": 0}, \"class\": XGBRegressor, \"init_params\": {\n",
        "                                                                                                                                                                                                    'n_jobs': 4,\n",
        "                                                                                                                                                                                                    'booster': 'gbtree',\n",
        "                                                                                                                                                                                                    'n_estimators': 6000,\n",
        "                                                                                                                                                                                                    'learning_rate': 0.054570441577205454,\n",
        "                                                                                                                                                                                                    'reg_lambda': 1.3476680322724826e-06,\n",
        "                                                                                                                                                                                                    'reg_alpha': 0.777847235568568,\n",
        "                                                                                                                                                                                                    'subsample': 0.31969304182639074,\n",
        "                                                                                                                                                                                                    'colsample_bytree': 0.7152496907340047,\n",
        "                                                                                                                                                                                                    'max_depth': 2\n",
        "                                                                                                                                                                                                }},\n",
        "            \"ridge\": {\"features\": [\"cb\", \"xgb\", \"ridge\"], \"has_eval\": False, \"fit_params\": {}, \"class\": Ridge, \"init_params\": {\"alpha\": 10}},\n",
        "            \"lgb\":  {\"features\": ['cb', 'xgb', 'ridge', 'rf', 'gbr', 'hgbr'], \"has_eval\": True, \"fit_params\": {\"eval_metric\":'rmse', \"early_stopping_rounds\":500,\"verbose\":False}, \"class\": LGBMRegressor, \"init_params\": {\n",
        "                                                                                                                                                                                                                            \"metric\": \"rmse\",\n",
        "                                                                                                                                                                                                                            \"n_jobs\": 6,\n",
        "                                                                                                                                                                                                                            'reg_lambda': 0.02323969333810591,\n",
        "                                                                                                                                                                                                                            'reg_alpha': 1.1403151293992749e-07,\n",
        "                                                                                                                                                                                                                            'colsample_bytree': 0.8,\n",
        "                                                                                                                                                                                                                            \"learning_rate\": 0.0504798086545976,\n",
        "                                                                                                                                                                                                                            \"max_depth\": 26,\n",
        "                                                                                                                                                                                                                            \"num_leaves\": 10,\n",
        "                                                                                                                                                                                                                            'min_child_samples': 107,\n",
        "                                                                                                                                                                                                                            \"n_estimators\":1600000,\n",
        "                                                                                                                                                                                                                            \"cat_smooth\": 92,\n",
        "                                                                                                                                                                                                                            # \"max_bin\": 512,\n",
        "                                                                                                                                                                                                                            \"min_data_per_group\": 117,\n",
        "                                                                                                                                                                                                                            \"bagging_freq\": 1,\n",
        "                                                                                                                                                                                                                            \"bagging_fraction\": 0.6709049555262285,\n",
        "                                                                                                                                                                                                                            \"cat_l2\": 10.74221611145318\n",
        "                                                                                                                                                                                                                        }},\n",
        "            \"cb\": {\"features\": ['cb', 'xgb', 'ridge', 'rf', 'gbr'], \"has_eval\": True, \"fit_params\": {\"early_stopping_rounds\": 1000, \"verbose\": False, \"use_best_model\": True}, \"class\": CatBoostRegressor, \"init_params\": {\n",
        "                                                                                                                                                                                                                            \"iterations\": 7400,\n",
        "                                                                                                                                                                                                                            \"learning_rate\": 0.2040222333224308,\n",
        "                                                                                                                                                                                                                            \"loss_function\": \"RMSE\",\n",
        "                                                                                                                                                                                                                            \"eval_metric\": \"RMSE\",\n",
        "                                                                                                                                                                                                                            \"verbose\": 0,\n",
        "                                                                                                                                                                                                                            \"depth\": 10,\n",
        "                                                                                                                                                                                                                            \"thread_count\": 4,\n",
        "                                                                                                                                                                                                                            \"l2_leaf_reg\": 7.801027337596287,\n",
        "                                                                                                                                                                                                                        }},\n",
        "        }\n",
        "    }\n",
        "}"
      ],
      "id": "d9c882c6",
      "execution_count": null,
      "outputs": []
    },
    {
      "cell_type": "code",
      "metadata": {
        "execution": {
          "iopub.execute_input": "2021-08-31T22:05:02.719608Z",
          "iopub.status.busy": "2021-08-31T22:05:02.713617Z",
          "iopub.status.idle": "2021-09-01T00:17:17.144429Z",
          "shell.execute_reply": "2021-09-01T00:17:17.144996Z",
          "shell.execute_reply.started": "2021-08-31T21:46:32.964688Z"
        },
        "papermill": {
          "duration": 7934.452542,
          "end_time": "2021-09-01T00:17:17.145188",
          "exception": false,
          "start_time": "2021-08-31T22:05:02.692646",
          "status": "completed"
        },
        "tags": [],
        "id": "ea607437",
        "outputId": "16e4c663-bef4-42cf-a5b4-10705536c452"
      },
      "source": [
        "for name_level, info_level in stacking_dict.items():\n",
        "    level_num = int(name_level.split(\"_\")[-1])\n",
        "    print(f\"Stacking level {level_num}\")\n",
        "    oof_preds_dict = {}\n",
        "    test_preds_dict = {}\n",
        "    for model_name in info_level[\"models\"].keys():\n",
        "        oof_preds_dict[model_name] = []\n",
        "        test_preds_dict[model_name] = []\n",
        "    seeds = info_level[\"seeds\"]\n",
        "    n_folds = info_level[\"n_folds\"]\n",
        "    level_train_df = locals()[f\"l{level_num}_train\"]\n",
        "    level_test_df = locals()[f\"l{level_num}_test\"]\n",
        "    X_test = level_test_df\n",
        "    for seed in seeds:\n",
        "        for model_name in info_level[\"models\"].keys():\n",
        "            locals()[f\"{model_name}_oof_preds\"] = np.zeros((level_train_df.shape[0],))\n",
        "            locals()[f\"{model_name}_test_preds\"] = np.zeros((level_test_df.shape[0],))\n",
        "            kf = KFold(n_splits=n_folds, shuffle=True, random_state=seed)\n",
        "            for fold, (train_idx, val_idx) in enumerate(kf.split(level_train_df)):\n",
        "                X_train, y_train, X_val, y_val = level_train_df.iloc[train_idx], target[train_idx], level_train_df.iloc[val_idx], target[val_idx]\n",
        "                model_X_train = X_train[info_level[\"models\"][model_name][\"features\"]]\n",
        "                model_X_val = X_val[info_level[\"models\"][model_name][\"features\"]]\n",
        "                model_X_test = X_test[info_level[\"models\"][model_name][\"features\"]]\n",
        "                if (info_level[\"models\"][model_name][\"has_eval\"]):\n",
        "                    info_level[\"models\"][model_name][\"fit_params\"][\"eval_set\"] = [(model_X_val, y_val)]\n",
        "                stack_model = info_level[\"models\"][model_name][\"class\"](random_state=seed, **info_level[\"models\"][model_name][\"init_params\"])\n",
        "                stack_model.fit(model_X_train, y_train, **info_level[\"models\"][model_name][\"fit_params\"])\n",
        "                locals()[f\"{model_name}_oof_preds\"][val_idx] = stack_model.predict(model_X_val)\n",
        "                locals()[f\"{model_name}_test_preds\"] += stack_model.predict(model_X_test)/n_folds\n",
        "            oof_preds_dict[model_name].append(locals()[f\"{model_name}_oof_preds\"])\n",
        "            test_preds_dict[model_name].append(locals()[f\"{model_name}_test_preds\"])\n",
        "            print(f\"Level {level_num}, Model {model_name}, SEED {seed} RMSE: \", competition_metric(target, oof_preds_dict[model_name]))\n",
        "    for ele in [oof_preds_dict, test_preds_dict]:\n",
        "        for k, v in ele.items():\n",
        "            ele[k] = np.mean(v, axis=0)\n",
        "    locals()[f\"l{level_num+1}_train\"] = pd.DataFrame(data={k:v for k, v in oof_preds_dict.items()})\n",
        "    locals()[f\"l{level_num+1}_test\"] = pd.DataFrame(data={k:v for k, v in test_preds_dict.items()})"
      ],
      "id": "ea607437",
      "execution_count": null,
      "outputs": [
        {
          "name": "stdout",
          "output_type": "stream",
          "text": [
            "Stacking level 1\n",
            "Level 1, Model ridge, SEED 42 RMSE:  0.7157111340594113\n",
            "Level 1, Model xgb, SEED 42 RMSE:  0.715558913072304\n",
            "[LightGBM] [Warning] bagging_fraction is set=0.6709049555262285, subsample=1.0 will be ignored. Current value: bagging_fraction=0.6709049555262285\n",
            "[LightGBM] [Warning] bagging_freq is set=1, subsample_freq=0 will be ignored. Current value: bagging_freq=1\n",
            "[LightGBM] [Warning] bagging_fraction is set=0.6709049555262285, subsample=1.0 will be ignored. Current value: bagging_fraction=0.6709049555262285\n",
            "[LightGBM] [Warning] bagging_freq is set=1, subsample_freq=0 will be ignored. Current value: bagging_freq=1\n",
            "[LightGBM] [Warning] bagging_fraction is set=0.6709049555262285, subsample=1.0 will be ignored. Current value: bagging_fraction=0.6709049555262285\n",
            "[LightGBM] [Warning] bagging_freq is set=1, subsample_freq=0 will be ignored. Current value: bagging_freq=1\n",
            "[LightGBM] [Warning] bagging_fraction is set=0.6709049555262285, subsample=1.0 will be ignored. Current value: bagging_fraction=0.6709049555262285\n",
            "[LightGBM] [Warning] bagging_freq is set=1, subsample_freq=0 will be ignored. Current value: bagging_freq=1\n",
            "[LightGBM] [Warning] bagging_fraction is set=0.6709049555262285, subsample=1.0 will be ignored. Current value: bagging_fraction=0.6709049555262285\n",
            "[LightGBM] [Warning] bagging_freq is set=1, subsample_freq=0 will be ignored. Current value: bagging_freq=1\n",
            "[LightGBM] [Warning] bagging_fraction is set=0.6709049555262285, subsample=1.0 will be ignored. Current value: bagging_fraction=0.6709049555262285\n",
            "[LightGBM] [Warning] bagging_freq is set=1, subsample_freq=0 will be ignored. Current value: bagging_freq=1\n",
            "[LightGBM] [Warning] bagging_fraction is set=0.6709049555262285, subsample=1.0 will be ignored. Current value: bagging_fraction=0.6709049555262285\n",
            "[LightGBM] [Warning] bagging_freq is set=1, subsample_freq=0 will be ignored. Current value: bagging_freq=1\n",
            "[LightGBM] [Warning] bagging_fraction is set=0.6709049555262285, subsample=1.0 will be ignored. Current value: bagging_fraction=0.6709049555262285\n",
            "[LightGBM] [Warning] bagging_freq is set=1, subsample_freq=0 will be ignored. Current value: bagging_freq=1\n",
            "[LightGBM] [Warning] bagging_fraction is set=0.6709049555262285, subsample=1.0 will be ignored. Current value: bagging_fraction=0.6709049555262285\n",
            "[LightGBM] [Warning] bagging_freq is set=1, subsample_freq=0 will be ignored. Current value: bagging_freq=1\n",
            "[LightGBM] [Warning] bagging_fraction is set=0.6709049555262285, subsample=1.0 will be ignored. Current value: bagging_fraction=0.6709049555262285\n",
            "[LightGBM] [Warning] bagging_freq is set=1, subsample_freq=0 will be ignored. Current value: bagging_freq=1\n",
            "Level 1, Model lgb, SEED 42 RMSE:  0.7156079652431893\n",
            "Level 1, Model cb, SEED 42 RMSE:  0.7156062922471066\n",
            "Level 1, Model hgbr, SEED 42 RMSE:  0.715693895088378\n",
            "Level 1, Model rf, SEED 42 RMSE:  0.7159867231005268\n",
            "Level 1, Model gbr, SEED 42 RMSE:  0.7160382159447694\n",
            "Stacking level 2\n",
            "Level 2, Model xgb, SEED 42 RMSE:  0.7155186773008262\n",
            "Level 2, Model ridge, SEED 42 RMSE:  0.7155129366342742\n",
            "[LightGBM] [Warning] bagging_fraction is set=0.6709049555262285, subsample=1.0 will be ignored. Current value: bagging_fraction=0.6709049555262285\n",
            "[LightGBM] [Warning] bagging_freq is set=1, subsample_freq=0 will be ignored. Current value: bagging_freq=1\n",
            "[LightGBM] [Warning] bagging_fraction is set=0.6709049555262285, subsample=1.0 will be ignored. Current value: bagging_fraction=0.6709049555262285\n",
            "[LightGBM] [Warning] bagging_freq is set=1, subsample_freq=0 will be ignored. Current value: bagging_freq=1\n",
            "[LightGBM] [Warning] bagging_fraction is set=0.6709049555262285, subsample=1.0 will be ignored. Current value: bagging_fraction=0.6709049555262285\n",
            "[LightGBM] [Warning] bagging_freq is set=1, subsample_freq=0 will be ignored. Current value: bagging_freq=1\n",
            "[LightGBM] [Warning] bagging_fraction is set=0.6709049555262285, subsample=1.0 will be ignored. Current value: bagging_fraction=0.6709049555262285\n",
            "[LightGBM] [Warning] bagging_freq is set=1, subsample_freq=0 will be ignored. Current value: bagging_freq=1\n",
            "[LightGBM] [Warning] bagging_fraction is set=0.6709049555262285, subsample=1.0 will be ignored. Current value: bagging_fraction=0.6709049555262285\n",
            "[LightGBM] [Warning] bagging_freq is set=1, subsample_freq=0 will be ignored. Current value: bagging_freq=1\n",
            "[LightGBM] [Warning] bagging_fraction is set=0.6709049555262285, subsample=1.0 will be ignored. Current value: bagging_fraction=0.6709049555262285\n",
            "[LightGBM] [Warning] bagging_freq is set=1, subsample_freq=0 will be ignored. Current value: bagging_freq=1\n",
            "[LightGBM] [Warning] bagging_fraction is set=0.6709049555262285, subsample=1.0 will be ignored. Current value: bagging_fraction=0.6709049555262285\n",
            "[LightGBM] [Warning] bagging_freq is set=1, subsample_freq=0 will be ignored. Current value: bagging_freq=1\n",
            "[LightGBM] [Warning] bagging_fraction is set=0.6709049555262285, subsample=1.0 will be ignored. Current value: bagging_fraction=0.6709049555262285\n",
            "[LightGBM] [Warning] bagging_freq is set=1, subsample_freq=0 will be ignored. Current value: bagging_freq=1\n",
            "[LightGBM] [Warning] bagging_fraction is set=0.6709049555262285, subsample=1.0 will be ignored. Current value: bagging_fraction=0.6709049555262285\n",
            "[LightGBM] [Warning] bagging_freq is set=1, subsample_freq=0 will be ignored. Current value: bagging_freq=1\n",
            "[LightGBM] [Warning] bagging_fraction is set=0.6709049555262285, subsample=1.0 will be ignored. Current value: bagging_fraction=0.6709049555262285\n",
            "[LightGBM] [Warning] bagging_freq is set=1, subsample_freq=0 will be ignored. Current value: bagging_freq=1\n",
            "Level 2, Model lgb, SEED 42 RMSE:  0.7154675593464758\n",
            "Level 2, Model cb, SEED 42 RMSE:  0.7155794135522373\n"
          ]
        }
      ]
    },
    {
      "cell_type": "code",
      "metadata": {
        "execution": {
          "iopub.execute_input": "2021-09-01T00:17:17.201169Z",
          "iopub.status.busy": "2021-09-01T00:17:17.194457Z",
          "iopub.status.idle": "2021-09-01T00:18:02.240219Z",
          "shell.execute_reply": "2021-09-01T00:18:02.239635Z"
        },
        "papermill": {
          "duration": 45.074926,
          "end_time": "2021-09-01T00:18:02.240391",
          "exception": false,
          "start_time": "2021-09-01T00:17:17.165465",
          "status": "completed"
        },
        "tags": [],
        "id": "ba11665c",
        "outputId": "3d952073-fefc-49c1-e605-6bd2876233b5"
      },
      "source": [
        "all = []\n",
        "x = np.stack([v for k, v in oof_preds_dict.items()], axis=0)\n",
        "for k in range(x.shape[0]):\n",
        "    rmse = competition_metric(x[k], target)\n",
        "    all.append(rmse)\n",
        "    print('Model %i has OOF RMSE = %.10f'%(k,rmse))\n",
        "all = np.array(all)\n",
        "m = [np.argsort(all)[0]]\n",
        "w = []\n",
        "RES = 5000 \n",
        "PATIENCE = 10000 \n",
        "TOL = 0.000000001\n",
        "DUPLICATES = False\n",
        "print(f'Ensemble ACC = {all[np.argsort(all)[0]]} by beginning with model {m[0]}')\n",
        "print()\n",
        "old = np.min(all)\n",
        "while True:\n",
        "    # BUILD CURRENT ENSEMBLE\n",
        "    md = x[m[0]]\n",
        "    for i,k in enumerate(m[1:]):\n",
        "        md = w[i]*x[k] + (1-w[i])*md\n",
        "        \n",
        "    # FIND MODEL TO ADD\n",
        "    mx = float(\"+inf\"); mx_k = 0; mx_w = 0\n",
        "    print('Searching for best model to add... ')\n",
        "    \n",
        "    # TRY ADDING EACH MODEL\n",
        "    for k in range(x.shape[0]):\n",
        "        print(k,', ',end='')\n",
        "        if not DUPLICATES and (k in m): continue\n",
        "            \n",
        "        # EVALUATE ADDING MODEL K WITH WEIGHTS W\n",
        "        bst_j = 0; bst = float(\"+inf\"); ct = 0\n",
        "        for j in range(RES):\n",
        "            tmp = j/RES*x[k] + (1-j/RES)*md\n",
        "            rmse = competition_metric(tmp, target)\n",
        "            if rmse < bst:\n",
        "                bst = rmse\n",
        "                bst_j = j/RES\n",
        "            else: ct += 1\n",
        "            if ct>PATIENCE: break\n",
        "        if bst<mx:\n",
        "            mx = bst\n",
        "            mx_k = k\n",
        "            mx_w = bst_j\n",
        "    \n",
        "    # STOP IF INCREASE IS LESS THAN TOL\n",
        "    inc = old - mx\n",
        "    if inc<=TOL: \n",
        "        print(); print('No increase. Stopping.')\n",
        "        break\n",
        "        \n",
        "    # DISPLAY RESULTS\n",
        "    print(); #print(kk,mx,mx_k,mx_w,'%.5f'%inc)\n",
        "    print('Ensemble RMSE = %.10f after adding model %i with weight %.10f. Increase of %.10f'%(mx,mx_k,mx_w,inc))\n",
        "    print()\n",
        "    \n",
        "    old = mx; m.append(mx_k); w.append(mx_w)"
      ],
      "id": "ba11665c",
      "execution_count": null,
      "outputs": [
        {
          "name": "stdout",
          "output_type": "stream",
          "text": [
            "Model 0 has OOF RMSE = 0.7155186773\n",
            "Model 1 has OOF RMSE = 0.7155129366\n",
            "Model 2 has OOF RMSE = 0.7154675593\n",
            "Model 3 has OOF RMSE = 0.7155794136\n",
            "Ensemble ACC = 0.7154675593464758 by beginning with model 2\n",
            "\n",
            "Searching for best model to add... \n",
            "0 , 1 , 2 , 3 , \n",
            "Ensemble RMSE = 0.7154447083 after adding model 0 with weight 0.3572000000. Increase of 0.0000228511\n",
            "\n",
            "Searching for best model to add... \n",
            "0 , 1 , 2 , 3 , \n",
            "Ensemble RMSE = 0.7154348258 after adding model 1 with weight 0.2624000000. Increase of 0.0000098825\n",
            "\n",
            "Searching for best model to add... \n",
            "0 , 1 , 2 , 3 , \n",
            "Ensemble RMSE = 0.7154347813 after adding model 3 with weight 0.0172000000. Increase of 0.0000000445\n",
            "\n",
            "Searching for best model to add... \n",
            "0 , 1 , 2 , 3 , \n",
            "No increase. Stopping.\n"
          ]
        }
      ]
    },
    {
      "cell_type": "code",
      "metadata": {
        "execution": {
          "iopub.execute_input": "2021-09-01T00:18:02.293957Z",
          "iopub.status.busy": "2021-09-01T00:18:02.293288Z",
          "iopub.status.idle": "2021-09-01T00:18:02.307671Z",
          "shell.execute_reply": "2021-09-01T00:18:02.307127Z"
        },
        "papermill": {
          "duration": 0.043969,
          "end_time": "2021-09-01T00:18:02.307830",
          "exception": false,
          "start_time": "2021-09-01T00:18:02.263861",
          "status": "completed"
        },
        "tags": [],
        "id": "753dc25f",
        "outputId": "082551e0-68fa-49f1-ed7d-8f04b8c83226"
      },
      "source": [
        "print(m)\n",
        "print(w)\n",
        "md = x[m[0]]\n",
        "for i,k in enumerate(m[1:]):\n",
        "    md = w[i]*x[k] + (1-w[i])*md\n",
        "print(\"Final RMSE: \", competition_metric(md, target))\n",
        "test_preds = np.stack([v for k, v in test_preds_dict.items()])\n",
        "final_test_preds = test_preds[m[0]]\n",
        "for i,k in enumerate(m[1:]):\n",
        "    final_test_preds = w[i]*test_preds[k] + (1-w[i])*final_test_preds"
      ],
      "id": "753dc25f",
      "execution_count": null,
      "outputs": [
        {
          "name": "stdout",
          "output_type": "stream",
          "text": [
            "[2, 0, 1, 3]\n",
            "[0.3572, 0.2624, 0.0172]\n",
            "Final RMSE:  0.7154347812542671\n"
          ]
        }
      ]
    },
    {
      "cell_type": "code",
      "metadata": {
        "execution": {
          "iopub.execute_input": "2021-09-01T00:18:02.360141Z",
          "iopub.status.busy": "2021-09-01T00:18:02.358837Z",
          "iopub.status.idle": "2021-09-01T00:18:03.110408Z",
          "shell.execute_reply": "2021-09-01T00:18:03.109769Z"
        },
        "papermill": {
          "duration": 0.778559,
          "end_time": "2021-09-01T00:18:03.110549",
          "exception": false,
          "start_time": "2021-09-01T00:18:02.331990",
          "status": "completed"
        },
        "tags": [],
        "id": "e5228923"
      },
      "source": [
        "submission_df[\"target\"] = final_test_preds\n",
        "submission_df.to_csv(\"./submission.csv\", index=False)"
      ],
      "id": "e5228923",
      "execution_count": null,
      "outputs": []
    }
  ]
}